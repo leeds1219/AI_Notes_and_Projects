{
  "nbformat": 4,
  "nbformat_minor": 0,
  "metadata": {
    "colab": {
      "provenance": [],
      "authorship_tag": "ABX9TyOUWDNT/7yOlPLEmfQ8V7Ut",
      "include_colab_link": true
    },
    "kernelspec": {
      "name": "python3",
      "display_name": "Python 3"
    },
    "language_info": {
      "name": "python"
    }
  },
  "cells": [
    {
      "cell_type": "markdown",
      "metadata": {
        "id": "view-in-github",
        "colab_type": "text"
      },
      "source": [
        "<a href=\"https://colab.research.google.com/github/leeds1219/DL_and_AI_Notes_and_Projects/blob/main/Constraint_Satisfaction_Problem.ipynb\" target=\"_parent\"><img src=\"https://colab.research.google.com/assets/colab-badge.svg\" alt=\"Open In Colab\"/></a>"
      ]
    },
    {
      "cell_type": "code",
      "source": [
        "# CSP\n",
        "\n",
        "# DFS\n",
        "\n",
        "# Backtracking\n",
        "\n",
        "# Improving Backtracking\n",
        "\n",
        "# Filtering\n",
        "\n",
        "# Forward Checking\n",
        "\n",
        "# Constraint Propagation\n",
        "\n",
        "# Arc consistency\n",
        "\n",
        "# Single Arc\n",
        "\n",
        "# Entire Arc\n",
        "\n",
        "# Limitation of Arc\n",
        "\n",
        "# K-Consistency\n",
        "\n",
        "# Strong K-Consistency\n",
        "\n",
        "# Ordering\n",
        "\n",
        "# Minimum Remaining Values\n",
        "\n",
        "# Least Constraining Value\n",
        "\n",
        "# Structure\n",
        "\n",
        "# tree\n",
        "\n",
        "# graph\n",
        "\n",
        "# Iterative min-conflict"
      ],
      "metadata": {
        "id": "l8hDhhsCzR-3"
      },
      "execution_count": null,
      "outputs": []
    },
    {
      "cell_type": "code",
      "source": [
        "# Iterative min-conflict\n",
        "import random\n",
        "\n",
        "# filtering!!!\n",
        "def min_conflicts(solution, n, iterative=1000):\n",
        "    def random_position(list, filter_function):\n",
        "        return random.choice([i for i in range(n) if filter_function(list[i])])\n",
        "\n",
        "    # Lambda functions are often used when you need a small, simple function for a short period\n",
        "    # and don't want to define a full function using the def keyword.\n",
        "    # They are particularly useful when you need to pass a function as an argument to another function\n",
        "    # Lambda arguments: expression\n",
        "\n",
        "    for k in range(iterative):\n",
        "        conflicts = find_conflicts(solution, n)\n",
        "        if sum(conflicts) == 0:\n",
        "            return solution\n",
        "        column = random_position(conflicts, lambda conflict_list_element: conflict_list_element > 0)\n",
        "        conflict_list = [column_conflict(solution, n, column, row) for row in range(n)]\n",
        "        solution[column] = random_position(conflict_list, lambda conflict_list_element: conflict_list_element == min(conflict_list))\n",
        "    raise Exception(\"Error\")\n",
        "\n",
        "def find_conflicts(solution, n):\n",
        "    return [column_conflict(solution, n, column, solution[column]) for column in range(n)]\n",
        "\n",
        "def column_conflict(solution, n, column, row):\n",
        "    total = 0\n",
        "    for i in range(n):\n",
        "        if i == column:\n",
        "            continue\n",
        "        if solution[i] == row or abs(i - column) == abs(solution[i] - row):\n",
        "            total += 1\n",
        "    return total\n",
        "\n",
        "N = int(input())\n",
        "print(\" \".join(map(str, min_conflicts(list(range(N)), N))))\n",
        "\n",
        "# thanks to Vedant Kumar for the ideas"
      ],
      "metadata": {
        "colab": {
          "base_uri": "https://localhost:8080/"
        },
        "id": "Kw1r_PEU6Qah",
        "outputId": "84cdd91c-359d-443b-af5e-7a2d5b3d3ded"
      },
      "execution_count": 12,
      "outputs": [
        {
          "output_type": "stream",
          "name": "stdout",
          "text": [
            "5\n",
            "4 2 0 3 1\n"
          ]
        }
      ]
    },
    {
      "cell_type": "code",
      "source": [],
      "metadata": {
        "id": "kiKOZdl1ZGxE"
      },
      "execution_count": null,
      "outputs": []
    }
  ]
}