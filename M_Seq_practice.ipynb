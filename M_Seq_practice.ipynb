{
  "nbformat": 4,
  "nbformat_minor": 0,
  "metadata": {
    "colab": {
      "provenance": [],
      "authorship_tag": "ABX9TyPqYeNjGkivFFq+xyTWI911",
      "include_colab_link": true
    },
    "kernelspec": {
      "name": "python3",
      "display_name": "Python 3"
    },
    "language_info": {
      "name": "python"
    }
  },
  "cells": [
    {
      "cell_type": "markdown",
      "metadata": {
        "id": "view-in-github",
        "colab_type": "text"
      },
      "source": [
        "<a href=\"https://colab.research.google.com/github/leeds1219/AI_Notes_and_Projects/blob/main/M_Seq_practice.ipynb\" target=\"_parent\"><img src=\"https://colab.research.google.com/assets/colab-badge.svg\" alt=\"Open In Colab\"/></a>"
      ]
    },
    {
      "cell_type": "markdown",
      "source": [
        "# m = 15"
      ],
      "metadata": {
        "id": "WsZSaVyc6DQq"
      }
    },
    {
      "cell_type": "code",
      "source": [
        "import numpy as np\n",
        "\n",
        "coefficients_list = []\n",
        "#m = 3\n",
        "m = 15\n",
        "for i in range(2**(m-1)):  # 2^14 candidate\n",
        "  coefficients = [1] + [int(x) for x in format(i, '014b')] + [1]\n",
        "#  coefficients = [1] + [int(x) for x in format(i, '02b')] + [1]\n",
        "  coefficients_list.append(coefficients)\n",
        "\n",
        "#print(coefficients_list)\n",
        "\n",
        "def lfsr_sequence(coefficients, m, seed):\n",
        "    degree = len(coefficients) - 1\n",
        "    # Initialize the LFSR register with a non-zero seed\n",
        "    register = seed\n",
        "    sequence = [register]\n",
        "\n",
        "    for _ in range((2 ** m) - 1):\n",
        "        # Compute the feedback bit\n",
        "        feedback_bit = sum([register[i] * coefficients[i + 1] for i in range(degree)]) % 2\n",
        "\n",
        "        # Shift the register to the right\n",
        "        register = [feedback_bit] + register[:-1]\n",
        "\n",
        "        # Append the output bit to the sequence\n",
        "        sequence.append(register.copy())\n",
        "\n",
        "    return sequence\n",
        "\n",
        "def autocorrelation_function(s, m):\n",
        "    \"\"\"\n",
        "    Calculate the autocorrelation function R(tau) for a given signal s and m using FFT.\n",
        "\n",
        "    Parameters:\n",
        "    - s: The input signal as a list or numpy array.\n",
        "    - m: The value for m in the formula.\n",
        "\n",
        "    Returns:\n",
        "    - R: The autocorrelation function R(tau) as a list.\n",
        "    \"\"\"\n",
        "    N = len(s)\n",
        "    s_padded = np.pad(s, (0, N), 'constant')  # Zero-padding to avoid circular convolution\n",
        "    S = np.fft.fft(s_padded)\n",
        "\n",
        "    R = np.fft.ifft(np.abs(S) ** (2 * m))\n",
        "\n",
        "    # Take the real part and discard imaginary part (due to numerical errors)\n",
        "    R = np.real(R)[:N]\n",
        "\n",
        "    return R\n",
        "\n",
        "primitive_polynomial_list = []\n",
        "\n",
        "for polynomial_coefficients in coefficients_list:\n",
        "    seed_value = [0] * (m - 1) + [1]\n",
        "    result_sequence = lfsr_sequence(polynomial_coefficients, m, seed_value)\n",
        "\n",
        "    sequence_x = [step[0] for step in result_sequence[:-1]]\n",
        "\n",
        "    # s(t) = 1 - 2 * x(t)\n",
        "    sequence_s = [1 - value * 2 for value in sequence_x]\n",
        "\n",
        "    signal = sequence_s\n",
        "    result = autocorrelation_function(signal, m)\n",
        "    result_without_same_number = list(set(result))\n",
        "\n",
        "    if len(result_without_same_number) == 3:\n",
        "        primitive_polynomial_list.append(polynomial_coefficients)\n",
        "\n",
        "#print(\"Primitive Polynomial List:\", primitive_polynomial_list)\n",
        "\n",
        "decimal_polynomial_list = []\n",
        "\n",
        "for binary_polynomial in primitive_polynomial_list:\n",
        "    decimal_polynomial = sum(bit * (2 ** (len(binary_polynomial) - 1 - i)) for i, bit in enumerate(binary_polynomial))\n",
        "    decimal_polynomial_list.append(decimal_polynomial)\n",
        "\n",
        "print(decimal_polynomial_list)"
      ],
      "metadata": {
        "id": "KA27PeC42DpY"
      },
      "execution_count": null,
      "outputs": []
    },
    {
      "cell_type": "markdown",
      "source": [
        "# m = 3"
      ],
      "metadata": {
        "id": "1xhKqaztBTwz"
      }
    },
    {
      "cell_type": "code",
      "source": [
        "import numpy as np\n",
        "\n",
        "coefficients_list = []\n",
        "m = 3\n",
        "#m = 15\n",
        "for i in range(2**(m-1)):  # 2^14 candidate\n",
        "#  coefficients = [1] + [int(x) for x in format(i, '014b')] + [1]\n",
        "  coefficients = [1] + [int(x) for x in format(i, '02b')] + [1]\n",
        "  coefficients_list.append(coefficients)\n",
        "\n",
        "#print(coefficients_list)\n",
        "\n",
        "def lfsr_sequence(coefficients, m, seed):\n",
        "    degree = len(coefficients) - 1\n",
        "    # Initialize the LFSR register with a non-zero seed\n",
        "    register = seed\n",
        "    sequence = [register]\n",
        "\n",
        "    for _ in range((2 ** m) - 1):\n",
        "        # Compute the feedback bit\n",
        "        feedback_bit = sum([register[i] * coefficients[i + 1] for i in range(degree)]) % 2\n",
        "\n",
        "        # Shift the register to the right\n",
        "        register = [feedback_bit] + register[:-1]\n",
        "\n",
        "        # Append the output bit to the sequence\n",
        "        sequence.append(register.copy())\n",
        "\n",
        "    return sequence\n",
        "\n",
        "def autocorrelation_function(s, m):\n",
        "    \"\"\"\n",
        "    Calculate the autocorrelation function R(tau) for a given signal s and m using FFT.\n",
        "\n",
        "    Parameters:\n",
        "    - s: The input signal as a list or numpy array.\n",
        "    - m: The value for m in the formula.\n",
        "\n",
        "    Returns:\n",
        "    - R: The autocorrelation function R(tau) as a list.\n",
        "    \"\"\"\n",
        "    N = len(s)\n",
        "    s_padded = np.pad(s, (0, N), 'constant')  # Zero-padding to avoid circular convolution\n",
        "    S = np.fft.fft(s_padded)\n",
        "\n",
        "    R = np.fft.ifft(np.abs(S) ** (2 * m))\n",
        "\n",
        "    # Take the real part and discard imaginary part (due to numerical errors)\n",
        "    R = np.real(R)[:N]\n",
        "\n",
        "    return R\n",
        "\n",
        "\n",
        "primitive_polynomial_list = []\n",
        "\n",
        "for polynomial_coefficients in coefficients_list:\n",
        "    seed_value = [0] * (m - 1) + [1]\n",
        "    result_sequence = lfsr_sequence(polynomial_coefficients, m, seed_value)\n",
        "\n",
        "    sequence_x = [step[0] for step in result_sequence[:-1]]\n",
        "\n",
        "    # s(t) = 1 - 2 * x(t)\n",
        "    sequence_s = [1 - value * 2 for value in sequence_x]\n",
        "\n",
        "    signal = sequence_s\n",
        "    result = autocorrelation_function(signal, m)\n",
        "    result_without_same_number = list(set(result))\n",
        "\n",
        "    if len(result_without_same_number) == 3:\n",
        "        primitive_polynomial_list.append(polynomial_coefficients)\n",
        "\n",
        "#print(\"Primitive Polynomial List:\", primitive_polynomial_list)\n",
        "\n",
        "decimal_polynomial_list = []\n",
        "\n",
        "for binary_polynomial in primitive_polynomial_list:\n",
        "    decimal_polynomial = sum(bit * (2 ** (len(binary_polynomial) - 1 - i)) for i, bit in enumerate(binary_polynomial))\n",
        "    decimal_polynomial_list.append(decimal_polynomial)\n",
        "\n",
        "print(decimal_polynomial_list)"
      ],
      "metadata": {
        "colab": {
          "base_uri": "https://localhost:8080/"
        },
        "id": "YaGMkbh8BNTm",
        "outputId": "93a61c70-539f-4159-8498-4eb72db9aa06"
      },
      "execution_count": 3,
      "outputs": [
        {
          "output_type": "stream",
          "name": "stdout",
          "text": [
            "[11]\n"
          ]
        }
      ]
    }
  ]
}