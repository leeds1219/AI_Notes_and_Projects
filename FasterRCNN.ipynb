{
  "nbformat": 4,
  "nbformat_minor": 0,
  "metadata": {
    "colab": {
      "provenance": [],
      "authorship_tag": "ABX9TyNOOht4chtTlAeXs8zh8e0B",
      "include_colab_link": true
    },
    "kernelspec": {
      "name": "python3",
      "display_name": "Python 3"
    },
    "language_info": {
      "name": "python"
    }
  },
  "cells": [
    {
      "cell_type": "markdown",
      "metadata": {
        "id": "view-in-github",
        "colab_type": "text"
      },
      "source": [
        "<a href=\"https://colab.research.google.com/github/leeds1219/AI_Notes_and_Projects/blob/main/FasterRCNN.ipynb\" target=\"_parent\"><img src=\"https://colab.research.google.com/assets/colab-badge.svg\" alt=\"Open In Colab\"/></a>"
      ]
    },
    {
      "cell_type": "markdown",
      "source": [
        "#+---+---+\n",
        "#| A | B |\n",
        "#+---+---+\n",
        "#| C | D |\n",
        "#+---+---+\n",
        "Each letter represents the pixel value at a specific location in the image. Now, we want to estimate the pixel value at a non-integer location within this grid, say at coordinates (x, y), where x and y are not whole numbers.\n",
        "\n",
        "Bilinear interpolation involves estimating the value at (x, y) based on the values at the four nearest neighbors (A, B, C, D) and their distances to the target point.\n",
        "\n",
        "The interpolation formula for bilinear interpolation is:\n",
        "\n",
        "f(x,y)=(1−s)(1−t)⋅A+s(1−t)⋅B+(1−s)⋅t⋅C+s⋅t⋅D\n",
        "\n",
        "Here, s and t are interpolation parameters that depend on the relative positions of (x, y) with respect to the grid corners.\n",
        "\n",
        "Let's assume that (x, y) is located at a position where s = 0.4 and t = 0.6. The bilinear interpolation formula becomes:\n",
        "\n",
        "f(x,y)=(1−0.4)(1−0.6)⋅A+0.4(1−0.6)⋅B+(1−0.4)⋅0.6⋅C+0.4⋅0.6⋅D\n",
        "\n",
        "You would substitute the actual pixel values for A, B, C, and D into this formula. The result gives you the estimated pixel value at the non-integer coordinates (x, y) within the grid.\n",
        "\n",
        "Bilinear interpolation is particularly useful in RoI Align when estimating values at fractional coordinates within feature maps, providing a more accurate representation of the spatial information than methods like max pooling or average pooling."
      ],
      "metadata": {
        "id": "rHmRQ5LD8967"
      }
    }
  ]
}