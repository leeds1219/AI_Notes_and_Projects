{
  "nbformat": 4,
  "nbformat_minor": 0,
  "metadata": {
    "colab": {
      "provenance": [],
      "authorship_tag": "ABX9TyPvAYR9DN1wX2fBkELRJVyk",
      "include_colab_link": true
    },
    "kernelspec": {
      "name": "python3",
      "display_name": "Python 3"
    },
    "language_info": {
      "name": "python"
    }
  },
  "cells": [
    {
      "cell_type": "markdown",
      "metadata": {
        "id": "view-in-github",
        "colab_type": "text"
      },
      "source": [
        "<a href=\"https://colab.research.google.com/github/leeds1219/AI_Notes_and_Projects/blob/main/VAST_Review.ipynb\" target=\"_parent\"><img src=\"https://colab.research.google.com/assets/colab-badge.svg\" alt=\"Open In Colab\"/></a>"
      ]
    },
    {
      "cell_type": "markdown",
      "source": [
        "Q. Language Encoder generalize better? why?"
      ],
      "metadata": {
        "id": "yLXZBMZc85vb"
      }
    },
    {
      "cell_type": "markdown",
      "source": [
        "Q. Latent caption as GT? possible problems?"
      ],
      "metadata": {
        "id": "sEfsXcFT9E2X"
      }
    },
    {
      "cell_type": "markdown",
      "source": [
        "Q. \"Weighting\" to alleviate the effect of false negatives? what is this weighting exactly?"
      ],
      "metadata": {
        "id": "m2koSpEY9JZM"
      }
    },
    {
      "cell_type": "markdown",
      "source": [
        "Q. What is this \"soft constraint\" exactly?"
      ],
      "metadata": {
        "id": "BTxnkakm9V8b"
      }
    },
    {
      "cell_type": "markdown",
      "source": [
        "CLIP, Recent \"Trend\" for using strong pretrained models"
      ],
      "metadata": {
        "id": "fNe9s1P59cbM"
      }
    },
    {
      "cell_type": "markdown",
      "source": [
        "Multiple instance learning"
      ],
      "metadata": {
        "id": "obTl3T529kGD"
      }
    },
    {
      "cell_type": "markdown",
      "source": [],
      "metadata": {
        "id": "6b8yrJ4G9m83"
      }
    }
  ]
}