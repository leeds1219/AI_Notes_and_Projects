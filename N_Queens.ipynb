{
  "nbformat": 4,
  "nbformat_minor": 0,
  "metadata": {
    "colab": {
      "provenance": [],
      "authorship_tag": "ABX9TyN/6gwzbkh+j/TEIxuIM0pK",
      "include_colab_link": true
    },
    "kernelspec": {
      "name": "python3",
      "display_name": "Python 3"
    },
    "language_info": {
      "name": "python"
    }
  },
  "cells": [
    {
      "cell_type": "markdown",
      "metadata": {
        "id": "view-in-github",
        "colab_type": "text"
      },
      "source": [
        "<a href=\"https://colab.research.google.com/github/leeds1219/Deep_learning_project/blob/main/N_Queens.ipynb\" target=\"_parent\"><img src=\"https://colab.research.google.com/assets/colab-badge.svg\" alt=\"Open In Colab\"/></a>"
      ]
    },
    {
      "cell_type": "code",
      "source": [
        "# Constraint\n",
        "def is_safe(board, row, col, n):\n",
        "    for i in range(col):\n",
        "        if board[row][i] == 1 or board[i][col] == 1 :\n",
        "            return False\n",
        "\n",
        "    for i, j in zip(range(row, -1, -1), range(col, -1, -1)):\n",
        "        if board[i][j] == 1:\n",
        "            return False\n",
        "\n",
        "    for i, j in zip(range(row, n, 1), range(col, -1, -1)):\n",
        "        if board[i][j] == 1:\n",
        "            return False\n",
        "\n",
        "    return True\n",
        "\n",
        "# 2D list structure\n",
        "def solve_n_queens(n):\n",
        "    board = [[0] * n for _ in range(n)]\n",
        "    result = [-1] * n\n",
        "    if solve_n_queens_util(board, 0, n, result):\n",
        "        return result\n",
        "    else:\n",
        "        return None\n",
        "\n",
        "# Backtracking\n",
        "def solve_n_queens_util(board, col, n, result):\n",
        "    if col == n:\n",
        "        for i in range(n):\n",
        "            for j in range(n):\n",
        "                if board[i][j] == 1:\n",
        "                    result[j] = i\n",
        "        return True\n",
        "\n",
        "    for i in range(n):\n",
        "        if is_safe(board, i, col, n):\n",
        "            board[i][col] = 1\n",
        "            if solve_n_queens_util(board, col + 1, n, result):\n",
        "                return True\n",
        "            board[i][col] = 0\n",
        "\n",
        "    return False\n",
        "\n",
        "# main\n",
        "n = int(input())\n",
        "solution = solve_n_queens(n)\n",
        "\n",
        "if solution:\n",
        "    print(\" \".join(map(str, solution)))\n",
        "else:\n",
        "    print(\"No solution found.\")"
      ],
      "metadata": {
        "colab": {
          "base_uri": "https://localhost:8080/"
        },
        "id": "k8h3Y1MIhjA4",
        "outputId": "87f57074-bb0b-4fee-bff6-3659584eb8b7"
      },
      "execution_count": 10,
      "outputs": [
        {
          "output_type": "stream",
          "name": "stdout",
          "text": [
            "6\n",
            "1 3 5 0 2 4\n"
          ]
        }
      ]
    },
    {
      "cell_type": "markdown",
      "source": [
        "bitwise operations"
      ],
      "metadata": {
        "id": "1sNDRMhPx3m7"
      }
    },
    {
      "cell_type": "code",
      "source": [
        "def is_safe(board, row, col, n, occupied_rows, occupied_diagonals, occupied_antidiagonals):\n",
        "    # Check if the current row is safe\n",
        "    if (occupied_rows & (1 << row)) != 0:\n",
        "        return False\n",
        "\n",
        "    # Check if the main diagonal is safe\n",
        "    if (occupied_diagonals & (1 << (row - col + n - 1))) != 0:\n",
        "        return False\n",
        "\n",
        "    # Check if the anti-diagonal is safe\n",
        "    if (occupied_antidiagonals & (1 << (row + col))) != 0:\n",
        "        return False\n",
        "\n",
        "    return True\n",
        "\n",
        "def solve_n_queens(n):\n",
        "    board = [[0] * n for _ in range(n)]\n",
        "    occupied_rows = 0\n",
        "    occupied_diagonals = 0\n",
        "    occupied_antidiagonals = 0\n",
        "    result = [-1] * n\n",
        "    if solve_n_queens_util(board, 0, n, result, occupied_rows, occupied_diagonals, occupied_antidiagonals):\n",
        "        return result\n",
        "    else:\n",
        "        return None\n",
        "\n",
        "def solve_n_queens_util(board, col, n, result, occupied_rows, occupied_diagonals, occupied_antidiagonals):\n",
        "    if col == n:\n",
        "        for i in range(n):\n",
        "            for j in range(n):\n",
        "                if board[i][j] == 1:\n",
        "                    result[j] = i\n",
        "        return True\n",
        "\n",
        "    for row in range(n):\n",
        "        if is_safe(board, row, col, n, occupied_rows, occupied_diagonals, occupied_antidiagonals):\n",
        "            # Place a queen in the current cell\n",
        "            board[row][col] = 1\n",
        "\n",
        "            # Update the occupied rows and diagonals\n",
        "            occupied_rows |= (1 << row)\n",
        "            occupied_diagonals |= (1 << (row - col + n - 1))\n",
        "            occupied_antidiagonals |= (1 << (row + col))\n",
        "\n",
        "            if solve_n_queens_util(board, col + 1, n, result, occupied_rows, occupied_diagonals, occupied_antidiagonals):\n",
        "                return True\n",
        "\n",
        "            # Backtrack\n",
        "            board[row][col] = 0\n",
        "            occupied_rows &= ~(1 << row)\n",
        "            occupied_diagonals &= ~(1 << (row - col + n - 1))\n",
        "            occupied_antidiagonals &= ~(1 << (row + col))\n",
        "\n",
        "    return False\n",
        "n = int(input())\n",
        "solution = solve_n_queens(n)\n",
        "\n",
        "if solution:\n",
        "    print(\" \".join(map(str, solution)))\n",
        "else:\n",
        "    print(\"No solution found.\")"
      ],
      "metadata": {
        "colab": {
          "base_uri": "https://localhost:8080/"
        },
        "id": "IDdPxFHFx4K7",
        "outputId": "ba86b210-2ef6-46d1-a4e2-b77a898b2625"
      },
      "execution_count": 6,
      "outputs": [
        {
          "output_type": "stream",
          "name": "stdout",
          "text": [
            "20\n",
            "0 2 4 1 3 12 14 11 17 19 16 8 15 18 7 9 6 13 5 10\n"
          ]
        }
      ]
    },
    {
      "cell_type": "code",
      "source": [],
      "metadata": {
        "id": "VY_WtQ5kyAIg"
      },
      "execution_count": null,
      "outputs": []
    }
  ]
}