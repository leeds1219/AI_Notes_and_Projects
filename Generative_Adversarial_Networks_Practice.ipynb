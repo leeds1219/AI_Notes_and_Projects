{
  "nbformat": 4,
  "nbformat_minor": 0,
  "metadata": {
    "colab": {
      "provenance": [],
      "authorship_tag": "ABX9TyONg18zGcDja0sGv/FMgwMz",
      "include_colab_link": true
    },
    "kernelspec": {
      "name": "python3",
      "display_name": "Python 3"
    },
    "language_info": {
      "name": "python"
    }
  },
  "cells": [
    {
      "cell_type": "markdown",
      "metadata": {
        "id": "view-in-github",
        "colab_type": "text"
      },
      "source": [
        "<a href=\"https://colab.research.google.com/github/leeds1219/DL_and_AI_Notes_and_Projects/blob/main/Generative_Adversarial_Networks_Practice.ipynb\" target=\"_parent\"><img src=\"https://colab.research.google.com/assets/colab-badge.svg\" alt=\"Open In Colab\"/></a>"
      ]
    },
    {
      "cell_type": "markdown",
      "source": [
        "# 20. Generative Adversarial Networks"
      ],
      "metadata": {
        "id": "Tt4tr6qzWahp"
      }
    },
    {
      "cell_type": "code",
      "execution_count": null,
      "metadata": {
        "id": "RgBTFbRfWJj6"
      },
      "outputs": [],
      "source": [
        "# 20.1 GAN uses a two-sample test\n",
        "\n",
        "# Generator with Noise(z) input creates a Fake G(z)\n",
        "# Discriminator with input(x)\n",
        "# classify if it is real or fake\n",
        "# when the fake G(z) pass the classifier an image(speech etc) is generated\n",
        "\n",
        "# The discriminator is a binary classifier to distinguish if the input(x) is real\n",
        "# or fake (from generator) and gives an scalr prediction o(a real number) for input using\n",
        "# a fully connected layer with hidden size 1 and then applies sigmoid function\n",
        "# to obtain the predicted probability D(x) = 1/(1+exp(-o)).\n",
        "# Assume the label y for the true data is 1 and fake is 0.\n",
        "\n",
        "# We train the discriminator to minimize the cross-entropy loss\n",
        "# min(D){-ylogD(x)-(1-y)log(1-D(x))}\n",
        "\n",
        "# For the Generator it draws some parameter z from z ~ N(0,1) z is called latent variable\n",
        "# it applies a function to generate x` = G(z).\n",
        "# The goal of the gnerator is to fool the discriminator to classify x` = G(z) as true\n",
        "# Thus we want D(G(z)) ~ 1 for given discriminator D we update the parameters of G to\n",
        "# maximize cross-entropy loss when y = 0(fake)\n",
        "# max(G){-(1-y)log(1-D(G(z)))} = max(G){-log(1-D(G(z)))}\n",
        "\n",
        "# If D(x`) ~ 1 so loss is near 0.\n",
        "# So we minimize the following loss\n",
        "# min(G){-ylog(D(G(z)))} = min(G){-log(D(G(z)))}\n",
        "\n",
        "# which is just feeding x` = G(z) into the discriminator but giving label y = 0(true)\n",
        "# In other words, D and G are playing a \"minimax\" game!!!\n",
        "# min(D)max(G){-E_x~DatalogD(x)-E_z~Noiselog(1-D(G(z)))}\n",
        "\n",
        "#  We will illustrate what happens if we use GANs to build\n",
        "# the world’s most inefficient estimator of parameters for a Gaussian"
      ]
    },
    {
      "cell_type": "code",
      "source": [
        "%matplotlib inline\n",
        "import torch\n",
        "from torch import nn\n",
        "from d2l import torch as d2l"
      ],
      "metadata": {
        "id": "fWTEjMGLYxoK"
      },
      "execution_count": null,
      "outputs": []
    }
  ]
}