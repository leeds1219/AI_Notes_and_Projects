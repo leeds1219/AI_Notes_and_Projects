{
  "nbformat": 4,
  "nbformat_minor": 0,
  "metadata": {
    "colab": {
      "provenance": [],
      "authorship_tag": "ABX9TyNxVEf0eVquLL4+/J/c7clW",
      "include_colab_link": true
    },
    "kernelspec": {
      "name": "python3",
      "display_name": "Python 3"
    },
    "language_info": {
      "name": "python"
    }
  },
  "cells": [
    {
      "cell_type": "markdown",
      "metadata": {
        "id": "view-in-github",
        "colab_type": "text"
      },
      "source": [
        "<a href=\"https://colab.research.google.com/github/leeds1219/DL_and_AI_Notes_and_Projects/blob/main/CSP.ipynb\" target=\"_parent\"><img src=\"https://colab.research.google.com/assets/colab-badge.svg\" alt=\"Open In Colab\"/></a>"
      ]
    },
    {
      "cell_type": "code",
      "source": [
        "# CSP\n",
        "\n",
        "# DFS\n",
        "\n",
        "# Backtracking\n",
        "\n",
        "# Improving Backtracking\n",
        "\n",
        "# Filtering\n",
        "\n",
        "# Forward Checking\n",
        "\n",
        "# Constraint Propagation\n",
        "\n",
        "# Arc consistency\n",
        "\n",
        "# Single Arc\n",
        "\n",
        "# Entire Arc\n",
        "\n",
        "# Limitation of Arc\n",
        "\n",
        "# K-Consistency\n",
        "\n",
        "# Strong K-Consistency\n",
        "\n",
        "# Ordering\n",
        "\n",
        "# Minimum Remaining Values\n",
        "\n",
        "# Least Constraining Value\n",
        "\n",
        "# Structure\n",
        "\n",
        "# tree\n",
        "\n",
        "# graph\n",
        "\n",
        "# Iterative min-conflict"
      ],
      "metadata": {
        "id": "l8hDhhsCzR-3"
      },
      "execution_count": null,
      "outputs": []
    },
    {
      "cell_type": "code",
      "source": [
        "# Iterative min-conflict\n",
        "import random\n",
        "\n",
        "def min_conflicts(soln, nr, iters=1000):\n",
        "    def random_pos(li, filt):\n",
        "        return random.choice([i for i in range(nr) if filt(li[i])])\n",
        "\n",
        "    for k in range(iters):\n",
        "        confs = find_conflicts(soln, nr)\n",
        "        if sum(confs) == 0:\n",
        "            return soln\n",
        "        col = random_pos(confs, lambda elt: elt > 0)\n",
        "        vconfs = [hits(soln, nr, col, row) for row in range(nr)]\n",
        "        soln[col] = random_pos(vconfs, lambda elt: elt == min(vconfs))\n",
        "    raise Exception(\"Incomplete solution: try more iterations.\")\n",
        "\n",
        "def find_conflicts(soln, nr):\n",
        "    return [hits(soln, nr, col, soln[col]) for col in range(nr)]\n",
        "\n",
        "def hits(soln, nr, col, row):\n",
        "    total = 0\n",
        "    for i in range(nr):\n",
        "        if i == col:\n",
        "            continue\n",
        "        if soln[i] == row or abs(i - col) == abs(soln[i] - row):\n",
        "            total += 1\n",
        "    return total\n",
        "\n",
        "N = int(input())\n",
        "print(\" \".join(map(str, min_conflicts(list(range(N)), N))))\n",
        "\n",
        "# thanks to Vedant Kumar for the ideas"
      ],
      "metadata": {
        "colab": {
          "base_uri": "https://localhost:8080/"
        },
        "id": "Kw1r_PEU6Qah",
        "outputId": "4ae2a571-d816-4791-9bd5-f4694b47fa00"
      },
      "execution_count": null,
      "outputs": [
        {
          "output_type": "stream",
          "name": "stdout",
          "text": [
            "100\n",
            "34 81 27 52 58 42 63 79 59 86 21 96 38 28 24 0 45 31 91 47 40 83 65 35 25 89 6 3 16 4 82 62 39 68 1 56 72 92 85 37 14 43 33 30 67 95 5 50 70 57 15 99 48 77 84 8 29 98 44 11 76 60 94 17 69 55 23 10 49 88 18 12 2 66 7 93 73 26 87 19 80 41 61 51 90 46 13 32 71 78 74 22 54 97 64 20 9 75 53 36\n"
          ]
        }
      ]
    }
  ]
}